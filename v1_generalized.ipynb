{
 "cells": [
  {
   "cell_type": "code",
   "execution_count": 1,
   "metadata": {},
   "outputs": [],
   "source": [
    "import numpy as np\n",
    "import pandas as pd\n",
    "import matplotlib.pyplot as plt\n",
    "from datetime import datetime\n",
    "import glob"
   ]
  },
  {
   "cell_type": "code",
   "execution_count": 2,
   "metadata": {},
   "outputs": [],
   "source": [
    "#select DAYS and RATS - depending on how your files are saved\n",
    "#this is done for filtering paths\n",
    "rats=['\\\\5\\\\']\n",
    "days=['2023-04-04']\n",
    "#mark path where your data is\n",
    "data_folder=r\"C:\\test*.csv\"\n",
    "#read all paths\n",
    "paths = glob.glob(data_folder)"
   ]
  },
  {
   "cell_type": "code",
   "execution_count": 3,
   "metadata": {},
   "outputs": [],
   "source": [
    "#list for saving results\n",
    "res_movement=[]\n",
    "#for every rat id\n",
    "for rat in range(0,len(rats)):\n",
    "    #every day\n",
    "    for day in range(0,len(days)):    \n",
    "        #selects the appropriate path\n",
    "        path=list(filter(lambda x: (days[day] in x) and (rats[rat] in x), paths))\n",
    "        #if the path of selected day and rat id exists\n",
    "        if len(path)>0:\n",
    "            #select the first one in case multiple are found\n",
    "            path=path[0]\n",
    "            #read data to Python\n",
    "            data=pd.read_csv(path,header=None, names=['movement','time'])\n",
    "            data=data.set_index(pd.to_datetime(data['time']))\n",
    "            data['time']=pd.to_datetime(data['time'])\n",
    "            data['movement_group']=(data.movement.ne(data.movement.shift())).cumsum()\n",
    "            if len(data)>0:\n",
    "                #integrate over 60 min - can be changed\n",
    "                hours=data.index.round('60min').drop_duplicates()\n",
    "                times_moving=[]\n",
    "                for i in range(0, len(hours)-1):\n",
    "                    df=data[hours[i]:hours[i+1]]\n",
    "                    df=df[df.movement]\n",
    "                    if len(df)>0:\n",
    "                        s = df.reset_index(drop=True).groupby('movement_group')['time'].apply(lambda x: x.iloc[-1] - x.iloc[0])\n",
    "                        times_moving.append(s.sum().total_seconds())\n",
    "                    else:\n",
    "                        times_moving.append(0)\n",
    "                one_rat_one_day=pd.DataFrame(times_moving, columns=['time_moving'])\n",
    "                one_rat_one_day['id']=rats[rat]\n",
    "                one_rat_one_day['day']=data.index.round('60min').drop_duplicates().strftime('%Y-%m-%d').tolist()[0:-1]\n",
    "                one_rat_one_day['hour']=data.index.round('60min').drop_duplicates().strftime('%H').tolist()[0:-1]\n",
    "                res_movement.append(one_rat_one_day)\n",
    "res_movement=pd.concat(res_movement).reset_index(drop=True)"
   ]
  }
 ],
 "metadata": {
  "kernelspec": {
   "display_name": "basicdata",
   "language": "python",
   "name": "python3"
  },
  "language_info": {
   "codemirror_mode": {
    "name": "ipython",
    "version": 3
   },
   "file_extension": ".py",
   "mimetype": "text/x-python",
   "name": "python",
   "nbconvert_exporter": "python",
   "pygments_lexer": "ipython3",
   "version": "3.11.6"
  },
  "orig_nbformat": 4,
  "vscode": {
   "interpreter": {
    "hash": "1632b40a422678b2501f8c20c187304741cc7354487dfb6e2a6c80ec080d17a1"
   }
  }
 },
 "nbformat": 4,
 "nbformat_minor": 2
}
